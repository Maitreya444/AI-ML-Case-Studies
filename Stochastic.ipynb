{
 "cells": [
  {
   "cell_type": "markdown",
   "metadata": {},
   "source": [
    "Creating Fake data"
   ]
  },
  {
   "cell_type": "code",
   "execution_count": 53,
   "metadata": {},
   "outputs": [],
   "source": [
    "import numpy as np\n",
    "from sklearn.utils import shuffle\n",
    "from sklearn.datasets._samples_generator import make_blobs\n",
    "X, Y = make_blobs(n_samples=300, centers=2, n_features=2, cluster_std=5, random_state=11)"
   ]
  },
  {
   "cell_type": "markdown",
   "metadata": {},
   "source": [
    "Visualizing data"
   ]
  },
  {
   "cell_type": "code",
   "execution_count": 54,
   "metadata": {},
   "outputs": [
    {
     "data": {
      "image/png": "[encoded data removed]",
      "text/plain": [
       "<Figure size 640x480 with 1 Axes>"
      ]
     },
     "metadata": {},
     "output_type": "display_data"
    }
   ],
   "source": [
    "from matplotlib import pyplot as plt\n",
    "from pandas import DataFrame\n",
    "df = DataFrame(dict(x=X[:,0], y=X[:,1], label = Y))\n",
    "colors = {0: 'blue', 1:'orange'}\n",
    "fig, ax = plt.subplots()\n",
    "grouped = df.groupby('label')\n",
    "for key, group in grouped:\n",
    "    group.plot(ax=ax, kind='scatter', x='x', y='y', label=key, color = colors[key])\n",
    "plt.xlabel('X_1')\n",
    "plt.ylabel('X_2')\n",
    "plt.show()"
   ]
  },
  {
   "cell_type": "markdown",
   "metadata": {},
   "source": [
    "S-1 Spliting into batches"
   ]
  },
  {
   "cell_type": "code",
   "execution_count": 55,
   "metadata": {},
   "outputs": [],
   "source": [
    "def next_batch(X, Y, batch_size):\n",
    "    for iCnt in np.arange(0, X.shape[0], batch_size):\n",
    "        yield(X[iCnt: iCnt + batch_size], Y[iCnt: iCnt+batch_size])"
   ]
  },
  {
   "cell_type": "markdown",
   "metadata": {},
   "source": [
    "S-2 Adding Column of 1's"
   ]
  },
  {
   "cell_type": "code",
   "execution_count": 56,
   "metadata": {},
   "outputs": [
    {
     "data": {
      "text/plain": [
       "(300, 3)"
      ]
     },
     "execution_count": 56,
     "metadata": {},
     "output_type": "execute_result"
    }
   ],
   "source": [
    "X = np.c_[np.ones((X.shape[0])), X]\n",
    "X.shape"
   ]
  },
  {
   "cell_type": "markdown",
   "metadata": {},
   "source": [
    "S-3 Logistic Model"
   ]
  },
  {
   "cell_type": "code",
   "execution_count": 57,
   "metadata": {},
   "outputs": [],
   "source": [
    "def sigmoid(z):\n",
    "    return 1/ (1 + np.exp(-z))"
   ]
  },
  {
   "cell_type": "code",
   "execution_count": 58,
   "metadata": {},
   "outputs": [],
   "source": [
    "def hx(W,X):\n",
    "    return sigmoid(np.dot(X,W))"
   ]
  },
  {
   "cell_type": "markdown",
   "metadata": {},
   "source": [
    "Cost Function - Binary Cross Entropy"
   ]
  },
  {
   "cell_type": "code",
   "execution_count": 59,
   "metadata": {},
   "outputs": [],
   "source": [
    "def cost(W,X,Y):\n",
    "    y_pred = hx(W,X)\n",
    "    return -1 * sum(Y*np.log(y_pred) + (1-Y)*np.log(1-y_pred))"
   ]
  },
  {
   "cell_type": "markdown",
   "metadata": {},
   "source": [
    "Stochastic Gradient Descent"
   ]
  },
  {
   "cell_type": "code",
   "execution_count": 60,
   "metadata": {},
   "outputs": [],
   "source": [
    "def grad(W,X,Y):\n",
    "    y_pred = hx(W,X)\n",
    "    A = Y * (1-y_pred) - (1-Y)*y_pred\n",
    "    g = -1* np.dot(A,X)\n",
    "    return g"
   ]
  },
  {
   "cell_type": "code",
   "execution_count": 61,
   "metadata": {},
   "outputs": [],
   "source": [
    "def sgd(W_new, W_prev, lr, batch_size, epochs):\n",
    "    X_, Y_, = shuffle(X,Y, random_state=0)\n",
    "    for e in range(epochs):\n",
    "        epoch_loss = []\n",
    "        X_, Y_, = shuffle(X_, Y_, random_state=0)\n",
    "        for (batchX, batchY) in next_batch(X_, Y_, batch_size):\n",
    "            W_prev = W_new\n",
    "            epoch_loss.append(cost(W_prev, batchX, batchY))\n",
    "            gradients = grad(W_prev, batchX, batchY)\n",
    "            W_new = W_prev - lr*gradients\n",
    "        print(np.average(epoch_loss))\n",
    "    return W_new"
   ]
  },
  {
   "cell_type": "markdown",
   "metadata": {},
   "source": [
    "Initializing weights and bias"
   ]
  },
  {
   "cell_type": "code",
   "execution_count": 62,
   "metadata": {},
   "outputs": [
    {
     "data": {
      "text/plain": [
       "(3,)"
      ]
     },
     "execution_count": 62,
     "metadata": {},
     "output_type": "execute_result"
    }
   ],
   "source": [
    "W = np.random.uniform(size=(X.shape[1],))\n",
    "W.shape"
   ]
  },
  {
   "cell_type": "markdown",
   "metadata": {},
   "source": [
    "Training the model"
   ]
  },
  {
   "cell_type": "code",
   "execution_count": 63,
   "metadata": {},
   "outputs": [
    {
     "name": "stdout",
     "output_type": "stream",
     "text": [
      "[0.32467951 0.14448912 0.31743444]\n",
      "6.431226313557633\n",
      "6.383753176415365\n",
      "6.181407493531244\n",
      "5.829366816331978\n",
      "5.970015388502953\n",
      "5.486528313420686\n",
      "5.460523442040829\n",
      "5.183900195169268\n",
      "5.577711584071267\n",
      "5.155045202588764\n",
      "5.204448576130779\n",
      "5.088333676152148\n",
      "5.281021788907082\n",
      "5.036559361380769\n",
      "5.088946769294601\n",
      "5.155900218654796\n",
      "5.272648723973894\n",
      "5.357275228885587\n",
      "5.2704725688979375\n",
      "4.948776610168667\n",
      "5.154408667987947\n",
      "4.882986555205116\n",
      "5.173458946280479\n",
      "4.9932647005484245\n",
      "5.085803484549858\n",
      "5.267953878490987\n",
      "5.1629813358025824\n",
      "5.385684160452882\n",
      "5.023191226013794\n",
      "4.922206841306997\n",
      "5.15904722360159\n",
      "4.78130955038225\n",
      "5.174502473771945\n",
      "4.9847678959181625\n",
      "5.068962553985104\n",
      "5.131353252372201\n",
      "5.056185302584014\n",
      "4.752990465460069\n",
      "5.044961211769275\n",
      "5.201690228534401\n",
      "5.287149244749481\n",
      "4.697042883035221\n",
      "5.112198300906067\n",
      "4.929661789540853\n",
      "5.51042475783446\n",
      "4.929908387542731\n",
      "5.358391952706844\n",
      "5.110212217737402\n",
      "5.269643277980954\n",
      "5.055808418796341\n",
      "5.127428255490256\n",
      "5.256574970223162\n",
      "5.201844932394066\n",
      "5.297028330652208\n",
      "4.842619472474738\n",
      "5.21640528704313\n",
      "5.167514346491289\n",
      "5.030943667516062\n",
      "4.920924607908809\n",
      "5.028559163558505\n",
      "5.254820539089046\n",
      "5.016485522309709\n",
      "4.902627987297652\n",
      "4.9522271865765175\n",
      "4.918910570593743\n",
      "5.0270424392108355\n",
      "5.077637797319146\n",
      "4.88013738151948\n",
      "4.944937920428329\n",
      "5.052445957858266\n",
      "5.0816971403187825\n",
      "5.182746914933256\n",
      "4.969707375765248\n",
      "5.056554390236315\n",
      "5.110574317104474\n",
      "4.996985244129366\n",
      "4.989619618085087\n",
      "4.858733837234952\n",
      "4.930646145701266\n",
      "5.009323727245954\n",
      "5.127988690167108\n",
      "5.022922035437743\n",
      "5.254028513726944\n",
      "5.014003317286595\n",
      "4.979783476261852\n",
      "5.052453196729169\n",
      "5.042069148439255\n",
      "5.069374708464893\n",
      "5.150174018484328\n",
      "5.164353569894945\n",
      "5.039141323657961\n",
      "4.988222590954736\n",
      "5.132398442659156\n",
      "4.891105811701639\n",
      "5.062006966864855\n",
      "5.2087621236072055\n",
      "4.9550766227499015\n",
      "4.882110658291102\n",
      "4.93514875991649\n",
      "5.4527687714330275\n",
      "4.902580122077344\n",
      "4.973176806783242\n",
      "4.969088551822341\n",
      "5.034809160274037\n",
      "5.111609182643731\n",
      "5.052693729128466\n",
      "4.968808425390149\n",
      "5.088587236698422\n",
      "4.915770414754715\n",
      "5.093173873789409\n",
      "5.033662082937466\n",
      "5.2234086531233626\n",
      "5.107750783524983\n",
      "5.135506883736914\n",
      "4.989781885349258\n",
      "5.165507411299218\n",
      "5.327793061822874\n",
      "5.019082635650716\n",
      "5.023950633046139\n",
      "5.026681898801963\n",
      "5.159693518971915\n",
      "5.027787406389843\n",
      "4.98863439568937\n",
      "5.012939770574055\n",
      "5.081679799374472\n",
      "5.272103313397912\n",
      "4.851858296148557\n",
      "4.956975593327095\n",
      "5.025156955207816\n",
      "4.993668426168072\n",
      "5.099862743390373\n",
      "5.096190351694804\n",
      "5.236920937614904\n",
      "4.90367079347943\n",
      "5.0758018384009995\n",
      "4.701662571067781\n",
      "5.29908419174184\n",
      "5.112196792045626\n",
      "5.057195184685265\n",
      "5.213604080673113\n",
      "5.119851552750041\n",
      "4.928095378898133\n",
      "4.991959834633372\n",
      "4.994820297726937\n",
      "5.04925919057372\n",
      "4.942708637040058\n",
      "4.919136487804789\n",
      "5.431437749346952\n",
      "5.116107446053821\n",
      "4.962586797681626\n",
      "5.04213181830554\n",
      "5.157803884752133\n",
      "5.04896005193678\n",
      "5.0189788272582305\n",
      "5.1850350149510875\n",
      "5.032462971952407\n",
      "4.89710457699194\n",
      "4.954214997320074\n",
      "5.259008049436408\n",
      "5.182717748410141\n",
      "4.884823430293779\n",
      "5.156840157328693\n",
      "5.047644545619603\n",
      "5.050120617852324\n",
      "4.869791256096886\n",
      "4.995718968175194\n",
      "5.022988301727952\n",
      "5.002837856910553\n",
      "4.881320123243113\n",
      "5.055590057025971\n",
      "5.015668883541745\n",
      "5.013391553665629\n",
      "4.9897239826577\n",
      "4.88041052265125\n",
      "5.416223589472654\n",
      "5.286736473837773\n",
      "5.1141478058449765\n",
      "5.079965446436597\n",
      "4.925425907335046\n",
      "5.145177771851282\n",
      "5.130159685492671\n",
      "5.024812612872751\n",
      "4.95876831091332\n",
      "4.81843073376484\n",
      "5.348423319448795\n",
      "5.279334100292516\n",
      "5.107919998755223\n",
      "5.150797492482858\n",
      "5.096404850794544\n",
      "5.0058563488872725\n",
      "5.20021846239712\n",
      "4.96229610044314\n",
      "4.937522239638992\n",
      "5.174090927075939\n",
      "5.14009736226544\n",
      "5.1319932450116985\n",
      "5.0481276897552005\n",
      "5.416047540635275\n",
      "5.057120452275933\n",
      "4.864273474508382\n",
      "[2.38149724 0.22263072 0.53666656]\n"
     ]
    }
   ],
   "source": [
    "print(W)\n",
    "W = sgd(W, W, .009, 32, 200)\n",
    "print(W)"
   ]
  },
  {
   "cell_type": "markdown",
   "metadata": {},
   "source": [
    "Visualizing"
   ]
  },
  {
   "cell_type": "code",
   "execution_count": 67,
   "metadata": {},
   "outputs": [
    {
     "data": {
      "image/png": "[encoded data removed]",
      "text/plain": [
       "<Figure size 640x480 with 1 Axes>"
      ]
     },
     "metadata": {},
     "output_type": "display_data"
    }
   ],
   "source": [
    "def graph(formula, x_range):\n",
    "    x = np.array(x_range)\n",
    "    y = formula(x)\n",
    "    plt.plot(x,y)\n",
    "\n",
    "def my_formula(X):\n",
    "    return (-W[0] - W[1] *X)/W[2]\n",
    "\n",
    "from matplotlib import pyplot as plt\n",
    "from pandas import DataFrame\n",
    "df = DataFrame(dict(x=X[:,1], y=X[:,2], label = Y))\n",
    "colors = {0: 'blue', 1:'orange'}\n",
    "fig, ax = plt.subplots()\n",
    "grouped = df.groupby('label')\n",
    "for key, group in grouped:\n",
    "    group.plot(ax=ax, kind='scatter', x='x', y='y', label=key, color = colors[key])\n",
    "graph(my_formula, range(-20,15))\n",
    "plt.xlabel('X_1')\n",
    "plt.ylabel('X_2')\n",
    "plt.show()"
   ]
  }
 ],
 "metadata": {
  "kernelspec": {
   "display_name": "Python 3",
   "language": "python",
   "name": "python3"
  },
  "language_info": {
   "codemirror_mode": {
    "name": "ipython",
    "version": 3
   },
   "file_extension": ".py",
   "mimetype": "text/x-python",
   "name": "python",
   "nbconvert_exporter": "python",
   "pygments_lexer": "ipython3",
   "version": "3.10.0"
  }
 },
 "nbformat": 4,
 "nbformat_minor": 2
}
