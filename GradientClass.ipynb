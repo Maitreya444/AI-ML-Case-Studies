{
 "cells": [
  {
   "cell_type": "code",
   "execution_count": 69,
   "metadata": {},
   "outputs": [
    {
     "data": {
      "text/plain": [
       "<matplotlib.collections.PathCollection at 0x17246237ca0>"
      ]
     },
     "execution_count": 69,
     "metadata": {},
     "output_type": "execute_result"
    },
    {
     "data": {
      "image/png": "[encoded data removed]",
      "text/plain": [
       "<Figure size 640x480 with 1 Axes>"
      ]
     },
     "metadata": {},
     "output_type": "display_data"
    }
   ],
   "source": [
    "from sklearn.datasets import make_regression\n",
    "import matplotlib.pyplot as plt\n",
    "import numpy as np\n",
    "from sklearn.model_selection import cross_val_score\n",
    "\n",
    "X,y = make_regression(n_samples=100, n_features=1, n_informative=1, n_targets=1, noise=20)\n",
    "\n",
    "plt.scatter(X,y)"
   ]
  },
  {
   "cell_type": "code",
   "execution_count": 70,
   "metadata": {},
   "outputs": [],
   "source": [
    "from sklearn.linear_model import LinearRegression"
   ]
  },
  {
   "cell_type": "code",
   "execution_count": 71,
   "metadata": {},
   "outputs": [],
   "source": [
    "lr = LinearRegression()"
   ]
  },
  {
   "cell_type": "code",
   "execution_count": 72,
   "metadata": {},
   "outputs": [
    {
     "name": "stdout",
     "output_type": "stream",
     "text": [
      "[22.25694456]\n",
      "2.635436308995963\n"
     ]
    }
   ],
   "source": [
    "lr.fit(X,y)\n",
    "print(lr.coef_)\n",
    "print(lr.intercept_)"
   ]
  },
  {
   "cell_type": "code",
   "execution_count": 73,
   "metadata": {},
   "outputs": [],
   "source": [
    "m = 78.75 #slope"
   ]
  },
  {
   "cell_type": "code",
   "execution_count": 74,
   "metadata": {},
   "outputs": [
    {
     "data": {
      "text/plain": [
       "0.5160394127222403"
      ]
     },
     "execution_count": 74,
     "metadata": {},
     "output_type": "execute_result"
    }
   ],
   "source": [
    "np.mean(cross_val_score(lr,X,y,scoring='r2', cv = 10))"
   ]
  },
  {
   "cell_type": "code",
   "execution_count": 75,
   "metadata": {},
   "outputs": [],
   "source": [
    "#Lets find intercept\n",
    "\n",
    "class GDRegressor:\n",
    "    \n",
    "    def __init__(self, learning_rate, epochs):\n",
    "        self.m = 78.75\n",
    "        self.b = -20\n",
    "        self.lr = learning_rate\n",
    "        self.epochs = epochs\n",
    "\n",
    "    def fit(self,X,y):\n",
    "        #Calculate b using gradient descent\n",
    "        for iCnt in range(self.epochs):\n",
    "            loss_slope = -2 * np.sum(y - self.m*X.ravel() - self.b) #Formula\n",
    "            loss_slope_m = -2 * np.sum((y - self.m*X.ravel() - self.b)*X.ravel())\n",
    "            self.b = self.b - (self.lr * loss_slope)\n",
    "            self.m = self.m - (self.lr * loss_slope_m)\n",
    "            #print(loss_slope, self.b)\n",
    "        print(self.m, self.b)\n",
    "\n",
    "    def predict(self, X):\n",
    "        return self.m * X + self.b\n"
   ]
  },
  {
   "cell_type": "code",
   "execution_count": 76,
   "metadata": {},
   "outputs": [],
   "source": [
    "gd = GDRegressor(0.001,50)"
   ]
  },
  {
   "cell_type": "code",
   "execution_count": 77,
   "metadata": {},
   "outputs": [
    {
     "name": "stdout",
     "output_type": "stream",
     "text": [
      "22.25694130951326 2.6352007765113177\n"
     ]
    }
   ],
   "source": [
    "gd.fit(X,y)"
   ]
  },
  {
   "cell_type": "code",
   "execution_count": 78,
   "metadata": {},
   "outputs": [
    {
     "data": {
      "text/plain": [
       "array([[ -0.51688051],\n",
       "       [ 13.24818295],\n",
       "       [  5.43479529],\n",
       "       [ 18.94259442],\n",
       "       [ -2.68188519],\n",
       "       [ 62.18908507],\n",
       "       [ -3.24016304],\n",
       "       [ 68.58833197],\n",
       "       [ 38.67646632],\n",
       "       [ 24.04435876],\n",
       "       [-45.19034297],\n",
       "       [ 17.53502101],\n",
       "       [ 18.29763696],\n",
       "       [-36.44962036],\n",
       "       [ 27.48860108],\n",
       "       [  9.33810975],\n",
       "       [ -0.16231717],\n",
       "       [ 32.34527108],\n",
       "       [ 24.65846061],\n",
       "       [  6.06611764],\n",
       "       [ 41.75402563],\n",
       "       [ 38.86867681],\n",
       "       [  9.52124175],\n",
       "       [-19.53490909],\n",
       "       [  2.2353273 ],\n",
       "       [ 40.42767864],\n",
       "       [ 18.8709907 ],\n",
       "       [ -1.16487775],\n",
       "       [-34.69257738],\n",
       "       [ 19.54532463],\n",
       "       [-11.19523396],\n",
       "       [-16.89320026],\n",
       "       [-32.18123143],\n",
       "       [  2.57075139],\n",
       "       [ 24.41802519],\n",
       "       [ -1.12423743],\n",
       "       [-19.81745544],\n",
       "       [-20.27207958],\n",
       "       [ 10.1614675 ],\n",
       "       [ 10.97780767],\n",
       "       [  5.98858244],\n",
       "       [ 14.24013822],\n",
       "       [ 27.24456491],\n",
       "       [-16.86386968],\n",
       "       [-36.47764194],\n",
       "       [-28.04947741],\n",
       "       [-42.53853387],\n",
       "       [  5.85772661],\n",
       "       [-36.94917272],\n",
       "       [ 29.12711076],\n",
       "       [ 26.97691143],\n",
       "       [-30.26109882],\n",
       "       [ -4.93265761],\n",
       "       [  7.19125989],\n",
       "       [  7.72844382],\n",
       "       [-21.56929443],\n",
       "       [  0.40186882],\n",
       "       [  1.2642593 ],\n",
       "       [ 15.08695315],\n",
       "       [ 14.08187023],\n",
       "       [ 18.76146758],\n",
       "       [ 26.79241361],\n",
       "       [ 19.28413694],\n",
       "       [-14.38629997],\n",
       "       [ 14.62542464],\n",
       "       [ -4.8407741 ],\n",
       "       [ -2.74073467],\n",
       "       [ -5.12697099],\n",
       "       [  6.37103735],\n",
       "       [-32.60919729],\n",
       "       [ 10.85547814],\n",
       "       [ -4.21679447],\n",
       "       [-22.28945204],\n",
       "       [-12.98355781],\n",
       "       [-31.87018896],\n",
       "       [  1.46613087],\n",
       "       [  3.26280527],\n",
       "       [ 36.29513953],\n",
       "       [-35.11366154],\n",
       "       [ 28.93661868],\n",
       "       [-28.30255275],\n",
       "       [  2.43036934],\n",
       "       [-30.90746588],\n",
       "       [-16.43478504],\n",
       "       [ -3.36870924],\n",
       "       [-46.91159255],\n",
       "       [-25.82909818],\n",
       "       [-55.67298668],\n",
       "       [-15.08834757],\n",
       "       [  9.63009136],\n",
       "       [ 43.4138113 ],\n",
       "       [ -1.85242769],\n",
       "       [ 13.58181118],\n",
       "       [ -4.8604587 ],\n",
       "       [ -0.61918676],\n",
       "       [-23.61949561],\n",
       "       [  8.47308438],\n",
       "       [ 73.24776298],\n",
       "       [  7.59060017],\n",
       "       [  5.81471788]])"
      ]
     },
     "execution_count": 78,
     "metadata": {},
     "output_type": "execute_result"
    }
   ],
   "source": [
    "gd.predict(X)"
   ]
  }
 ],
 "metadata": {
  "kernelspec": {
   "display_name": "Python 3",
   "language": "python",
   "name": "python3"
  },
  "language_info": {
   "codemirror_mode": {
    "name": "ipython",
    "version": 3
   },
   "file_extension": ".py",
   "mimetype": "text/x-python",
   "name": "python",
   "nbconvert_exporter": "python",
   "pygments_lexer": "ipython3",
   "version": "3.10.0"
  }
 },
 "nbformat": 4,
 "nbformat_minor": 2
}
